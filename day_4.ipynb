{
 "cells": [
  {
   "cell_type": "code",
   "execution_count": null,
   "metadata": {},
   "outputs": [],
   "source": [
    "import numpy as np\n",
    "import re"
   ]
  },
  {
   "cell_type": "markdown",
   "metadata": {},
   "source": [
    "## Parse the data"
   ]
  },
  {
   "cell_type": "code",
   "execution_count": null,
   "metadata": {},
   "outputs": [],
   "source": [
    "# Test case to make sure things are working\n",
    "test_data = [\"MMMSXXMASM\",\n",
    "\"MSAMXMSMSA\",\n",
    "\"AMXSXMAAMM\",\n",
    "\"MSAMASMSMX\",\n",
    "\"XMASAMXAMM\",\n",
    "\"XXAMMXXAMA\",\n",
    "\"SMSMSASXSS\",\n",
    "\"SAXAMASAAA\",\n",
    "\"MAMMMXMMMM\",\n",
    "\"MXMXAXMASX\"]\n",
    "test_data = np.array([list(word) for word in test_data])\n",
    "\n",
    "# Actual data\n",
    "data = np.loadtxt(\"data/day_4.txt\", dtype='str')\n",
    "data = np.array([list(word) for word in data])"
   ]
  },
  {
   "cell_type": "markdown",
   "metadata": {},
   "source": [
    "## Part 1"
   ]
  },
  {
   "cell_type": "code",
   "execution_count": null,
   "metadata": {},
   "outputs": [],
   "source": [
    "def count_xmas(data):\n",
    "    #  All rows\n",
    "    rows = []\n",
    "    for row in data:\n",
    "        rows.append(\"\".join(row.tolist()))\n",
    "        rows.append(\"\".join(row.tolist())[::-1])\n",
    "    cols = []\n",
    "    # All cols\n",
    "    for col in data.T:\n",
    "        cols.append(\"\".join(col.tolist()))\n",
    "        cols.append(\"\".join(col.tolist())[::-1])\n",
    "    cols\n",
    "    # All diags\n",
    "    diags = [\"\".join(data[::-1,:].diagonal(i)) for i in range(-data.shape[0]+1,data.shape[1])]\n",
    "    diags.extend(\"\".join(data.diagonal(i)) for i in range(data.shape[1]-1,-data.shape[0],-1))\n",
    "    diags = diags + [x[::-1] for x in diags]\n",
    "    diags\n",
    "\n",
    "    allstrings = rows + cols + diags\n",
    "\n",
    "    regex = re.compile(\"XMAS\")\n",
    "    return sum([len(regex.findall(x)) for x in allstrings])\n",
    "\n",
    "print(count_xmas(data))\n"
   ]
  },
  {
   "cell_type": "markdown",
   "metadata": {},
   "source": [
    "## Part 2"
   ]
  },
  {
   "cell_type": "code",
   "execution_count": null,
   "metadata": {},
   "outputs": [],
   "source": [
    "def get_diagonals(arr, x, y):\n",
    "    rows, cols = arr.shape\n",
    "    main_diag = \"\".join([arr[x + i, y + i] for i in range(-1, 2) if 0 <= x+i < rows and 0 <= y+i < cols])\n",
    "    anti_diag = \"\".join([arr[x + i, y - i] for i in range(-1, 2) if 0 <= x+i < rows and 0 <= y-i < cols])\n",
    "    return main_diag, anti_diag\n",
    "\n",
    "def count_x_mas(data):\n",
    "    all_a = np.array(np.where(data=='A')).T\n",
    "    alldiags = [get_diagonals(data, all_a[x,0], all_a[x,1]) for x in range(all_a.shape[0])]\n",
    "    is_valid = [(x[0]=='MAS' or x[0]=='SAM') and  (x[1]=='MAS' or x[1]=='SAM') for x in alldiags]\n",
    "    return sum(is_valid)\n",
    "\n",
    "print(count_x_mas(test_data))\n",
    "print(count_x_mas(data))\n"
   ]
  }
 ],
 "metadata": {
  "kernelspec": {
   "display_name": "analysis",
   "language": "python",
   "name": "python3"
  },
  "language_info": {
   "codemirror_mode": {
    "name": "ipython",
    "version": 3
   },
   "file_extension": ".py",
   "mimetype": "text/x-python",
   "name": "python",
   "nbconvert_exporter": "python",
   "pygments_lexer": "ipython3",
   "version": "3.11.10"
  }
 },
 "nbformat": 4,
 "nbformat_minor": 2
}
