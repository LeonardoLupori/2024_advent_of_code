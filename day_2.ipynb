{
 "cells": [
  {
   "cell_type": "code",
   "execution_count": 43,
   "metadata": {},
   "outputs": [],
   "source": [
    "import numpy as np\n",
    "from aocd import get_data\n",
    "from copy import deepcopy"
   ]
  },
  {
   "cell_type": "markdown",
   "metadata": {},
   "source": [
    "# Parse input data"
   ]
  },
  {
   "cell_type": "code",
   "execution_count": 32,
   "metadata": {},
   "outputs": [],
   "source": [
    "# Test case to make sure things are working\n",
    "test_data = [\n",
    "    [7, 6, 4, 2, 1],\n",
    "    [1, 2, 7, 8, 9],\n",
    "    [9, 7, 6, 2, 1],\n",
    "    [1, 3, 2, 4, 5],\n",
    "    [8, 6, 4, 4, 1],\n",
    "    [1, 3, 6, 7, 9]]\n",
    "test_outcome = [True, False, False, False, False, True]\n",
    "\n",
    "# Actual data\n",
    "raw = get_data(day=2, year=2024).split(\"\\n\")\n",
    "data = []\n",
    "for row in raw:\n",
    "    data.append([int(x) for x in row.split(' ')])"
   ]
  },
  {
   "cell_type": "markdown",
   "metadata": {},
   "source": [
    "## Part 1"
   ]
  },
  {
   "cell_type": "code",
   "execution_count": 38,
   "metadata": {},
   "outputs": [
    {
     "data": {
      "text/plain": [
       "591"
      ]
     },
     "execution_count": 38,
     "metadata": {},
     "output_type": "execute_result"
    }
   ],
   "source": [
    "def solve(list_of_reports):\n",
    "    is_valid = []\n",
    "    for report in list_of_reports:\n",
    "        diffs = np.diff(report)\n",
    "        is_increasing = all(diffs>0)\n",
    "        is_decreaing = all(diffs<0)\n",
    "        in_spec = all(abs(diffs)>0) and all(abs(diffs)<4)\n",
    "        is_valid.append((is_increasing or is_decreaing) and in_spec)\n",
    "    return is_valid\n",
    "\n",
    "\n",
    "assert sum(solve(test_data)) == 2\n",
    "\n",
    "sum(solve(data))\n"
   ]
  },
  {
   "cell_type": "markdown",
   "metadata": {},
   "source": [
    "## Part 2"
   ]
  },
  {
   "cell_type": "code",
   "execution_count": null,
   "metadata": {},
   "outputs": [
    {
     "data": {
      "text/plain": [
       "621"
      ]
     },
     "execution_count": 56,
     "metadata": {},
     "output_type": "execute_result"
    }
   ],
   "source": [
    "def validate(report):\n",
    "    diffs = np.diff(report)\n",
    "    is_increasing = all(diffs>0)\n",
    "    is_decreaing = all(diffs<0)\n",
    "    in_spec = all(abs(diffs)>0) and all(abs(diffs)<4)\n",
    "    return ((is_increasing or is_decreaing) and in_spec)\n",
    "\n",
    "def solve(list_of_reports):\n",
    "    is_valid = []\n",
    "    for report in list_of_reports:\n",
    "        # if it passes now move on\n",
    "        if validate(report):\n",
    "            is_valid.append(True)\n",
    "            continue\n",
    "        # If it does not pass remove one by one the elements\n",
    "        passing = []\n",
    "        for i in range(len(report)):\n",
    "            tmp = deepcopy(report)\n",
    "            tmp.pop(i)\n",
    "            passing.append(validate(tmp))\n",
    "        if any(passing):\n",
    "            is_valid.append(True)\n",
    "        else:\n",
    "            is_valid.append(False)\n",
    "    return is_valid\n",
    "\n",
    "assert sum(solve(test_data)) == 4\n",
    "\n",
    "sum(solve(data))"
   ]
  }
 ],
 "metadata": {
  "kernelspec": {
   "display_name": "analysis",
   "language": "python",
   "name": "python3"
  },
  "language_info": {
   "codemirror_mode": {
    "name": "ipython",
    "version": 3
   },
   "file_extension": ".py",
   "mimetype": "text/x-python",
   "name": "python",
   "nbconvert_exporter": "python",
   "pygments_lexer": "ipython3",
   "version": "3.11.10"
  }
 },
 "nbformat": 4,
 "nbformat_minor": 2
}
