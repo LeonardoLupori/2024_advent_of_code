{
 "cells": [
  {
   "cell_type": "code",
   "execution_count": 1,
   "metadata": {},
   "outputs": [],
   "source": [
    "import numpy as np"
   ]
  },
  {
   "cell_type": "markdown",
   "metadata": {},
   "source": [
    "## Parse the data"
   ]
  },
  {
   "cell_type": "code",
   "execution_count": 118,
   "metadata": {},
   "outputs": [],
   "source": [
    "# Actual data\n",
    "with open('data\\day_7.txt', 'r') as file:\n",
    "    data = file.read().rstrip().split(\"\\n\")\n",
    "\n",
    "results = []\n",
    "nums = []\n",
    "for rule in data:\n",
    "    a,b = rule.split(\": \")\n",
    "    results.append(int(a))\n",
    "    nums.append(list(map(int, b.split(\" \"))))"
   ]
  },
  {
   "cell_type": "code",
   "execution_count": 111,
   "metadata": {},
   "outputs": [],
   "source": [
    "import operator\n",
    "import itertools\n",
    "\n",
    "def is_solvable(num_list, result, operators):\n",
    "    num_operations = len(num_list) - 1\n",
    "    op_set = itertools.product(operators, repeat=num_operations)\n",
    "    for op in op_set:\n",
    "        nums = list(num_list)\n",
    "        # print(nums, list(op))\n",
    "        for i in range(len(op)):\n",
    "            nums[:2] = [op[i](nums[0],nums[1])]\n",
    "            # print(nums)\n",
    "        if (len(nums)==1) & (nums[0] == result):\n",
    "            return nums[0]     \n",
    "    return 0\n"
   ]
  },
  {
   "cell_type": "markdown",
   "metadata": {},
   "source": [
    "## Part 1"
   ]
  },
  {
   "cell_type": "code",
   "execution_count": null,
   "metadata": {},
   "outputs": [
    {
     "data": {
      "text/plain": [
       "3598800864292"
      ]
     },
     "execution_count": 112,
     "metadata": {},
     "output_type": "execute_result"
    }
   ],
   "source": [
    "ops = [operator.add, operator.mul]\n",
    "sum([is_solvable(a,b,ops) for a,b in zip(nums, results)])"
   ]
  },
  {
   "cell_type": "markdown",
   "metadata": {},
   "source": [
    "## Part 2"
   ]
  },
  {
   "cell_type": "code",
   "execution_count": 119,
   "metadata": {},
   "outputs": [
    {
     "data": {
      "text/plain": [
       "340362529351427"
      ]
     },
     "execution_count": 119,
     "metadata": {},
     "output_type": "execute_result"
    }
   ],
   "source": [
    "ops = [operator.add, operator.mul, lambda x,y: int(str(x)+str(y))]\n",
    "sum([is_solvable(a,b,ops) for a,b in zip(nums, results)])"
   ]
  }
 ],
 "metadata": {
  "kernelspec": {
   "display_name": "analysis",
   "language": "python",
   "name": "python3"
  },
  "language_info": {
   "codemirror_mode": {
    "name": "ipython",
    "version": 3
   },
   "file_extension": ".py",
   "mimetype": "text/x-python",
   "name": "python",
   "nbconvert_exporter": "python",
   "pygments_lexer": "ipython3",
   "version": "3.11.10"
  }
 },
 "nbformat": 4,
 "nbformat_minor": 2
}
