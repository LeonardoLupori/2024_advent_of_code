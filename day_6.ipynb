{
 "cells": [
  {
   "cell_type": "code",
   "execution_count": 91,
   "metadata": {},
   "outputs": [],
   "source": [
    "import numpy as np\n",
    "import re"
   ]
  },
  {
   "cell_type": "markdown",
   "metadata": {},
   "source": [
    "## Parse the data"
   ]
  },
  {
   "cell_type": "code",
   "execution_count": 130,
   "metadata": {},
   "outputs": [],
   "source": [
    "with open('data\\day_6_test.txt', 'r') as file:\n",
    "    data = file.read().rstrip().split(\"\\n\")\n",
    "data = np.array([list(word) for word in data])\n",
    "data\n",
    "\n",
    "# Initial position and direction\n",
    "pos = np.where(data==\"^\")\n",
    "pos = np.array([pos[0][0], pos[1][0]])\n",
    "dir = np.array([-1,0])"
   ]
  },
  {
   "cell_type": "markdown",
   "metadata": {},
   "source": [
    "## Part 1"
   ]
  },
  {
   "cell_type": "code",
   "execution_count": 128,
   "metadata": {},
   "outputs": [
    {
     "data": {
      "text/plain": [
       "41"
      ]
     },
     "execution_count": 128,
     "metadata": {},
     "output_type": "execute_result"
    }
   ],
   "source": [
    "def turn_90(dir):\n",
    "    match tuple(dir):\n",
    "        case (-1,0):\n",
    "            return (0,1)\n",
    "        case (0,1):\n",
    "            return (1,0)\n",
    "        case (1,0):\n",
    "            return (0,-1)\n",
    "        case (0,-1):\n",
    "            return (-1,0)\n",
    "        case _:\n",
    "            return None\n",
    "        \n",
    "def do_step(map, pos, dir):\n",
    "    height, width = map.shape\n",
    "    new_pos = pos + dir\n",
    "    # print(f'From {pos} to {new_pos}')\n",
    "    if any(new_pos<0) or new_pos[0]>(height-1) or new_pos[1]>(width-1):\n",
    "        return None, None\n",
    "    if map[new_pos[0], new_pos[1]] == '#':\n",
    "        dir = turn_90(dir)\n",
    "        new_pos = pos + dir\n",
    "    return new_pos, dir\n",
    "\n",
    "\n",
    "positions = set()\n",
    "positions.add(tuple(pos))\n",
    "while True:\n",
    "    pos, dir = do_step(data, pos, dir)\n",
    "    if pos is None:\n",
    "        break\n",
    "    positions.add(tuple(pos))\n",
    "    \n",
    "\n",
    "len(positions)\n"
   ]
  },
  {
   "cell_type": "markdown",
   "metadata": {},
   "source": [
    "## Part 2"
   ]
  },
  {
   "cell_type": "code",
   "execution_count": null,
   "metadata": {},
   "outputs": [
    {
     "data": {
      "text/plain": [
       "[((6, 4), (-1, 0))]"
      ]
     },
     "execution_count": 137,
     "metadata": {},
     "output_type": "execute_result"
    }
   ],
   "source": [
    "positions = [tuple(pos)]\n",
    "directions = [tuple(dir)]\n",
    "\n",
    "positions + directions == [(6,4), (-1,0)]"
   ]
  },
  {
   "cell_type": "code",
   "execution_count": 147,
   "metadata": {},
   "outputs": [
    {
     "name": "stdout",
     "output_type": "stream",
     "text": [
      "0\n",
      "1\n",
      "2\n",
      "3\n",
      "4\n",
      "5\n",
      "6\n",
      "7\n",
      "8\n",
      "9\n"
     ]
    }
   ],
   "source": [
    "positions = [tuple(pos)]\n",
    "directions = [tuple(dir)]\n",
    "\n",
    "obst_pos = []\n",
    "\n",
    "def is_loop(data, start_pos, start_dir):\n",
    "    while True:\n",
    "        pos, dir = do_step(data, pos, dir)\n",
    "        if pos is None:\n",
    "            return False\n",
    "        elif start_pos + start_dir == tuple(pos) + tuple(dir):\n",
    "            return True\n",
    "\n",
    "\n",
    "for r,c in zip(range(data.shape[0]), range(data.shape[1])):\n",
    "    print(r)"
   ]
  },
  {
   "cell_type": "code",
   "execution_count": 145,
   "metadata": {},
   "outputs": [
    {
     "data": {
      "text/plain": [
       "<zip at 0x2123803b840>"
      ]
     },
     "execution_count": 145,
     "metadata": {},
     "output_type": "execute_result"
    }
   ],
   "source": [
    "zip(range(data.shape[0]), range(data.shape[1]))"
   ]
  }
 ],
 "metadata": {
  "kernelspec": {
   "display_name": "analysis",
   "language": "python",
   "name": "python3"
  },
  "language_info": {
   "codemirror_mode": {
    "name": "ipython",
    "version": 3
   },
   "file_extension": ".py",
   "mimetype": "text/x-python",
   "name": "python",
   "nbconvert_exporter": "python",
   "pygments_lexer": "ipython3",
   "version": "3.11.10"
  }
 },
 "nbformat": 4,
 "nbformat_minor": 2
}
