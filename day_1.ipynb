{
 "cells": [
  {
   "cell_type": "code",
   "execution_count": null,
   "metadata": {},
   "outputs": [],
   "source": [
    "import numpy as np"
   ]
  },
  {
   "cell_type": "markdown",
   "metadata": {},
   "source": [
    " ## Load Data"
   ]
  },
  {
   "cell_type": "code",
   "execution_count": null,
   "metadata": {},
   "outputs": [],
   "source": [
    "# Test case to make sure things are working\n",
    "test_data = np.array([\n",
    "    [3,4],\n",
    "    [4,3],\n",
    "    [2,5],\n",
    "    [1,3],\n",
    "    [3,9],\n",
    "    [3,3]])\n",
    "\n",
    "# Actual data\n",
    "data = np.loadtxt(\"data/day_1.txt\", dtype='int32')"
   ]
  },
  {
   "cell_type": "markdown",
   "metadata": {},
   "source": [
    "## Part 1"
   ]
  },
  {
   "cell_type": "code",
   "execution_count": null,
   "metadata": {},
   "outputs": [
    {
     "name": "stdout",
     "output_type": "stream",
     "text": [
      "1873376\n"
     ]
    }
   ],
   "source": [
    "def solve(input_matrix):\n",
    "    input_matrix.sort(axis=0)\n",
    "    diff_sum = np.sum(np.abs(np.subtract(input_matrix[:,1], input_matrix[:,0])))\n",
    "    return diff_sum\n",
    "\n",
    "# make sure it passes the test\n",
    "assert solve(test_data) == 11\n",
    "\n",
    "# Actual question\n",
    "print(solve(data))"
   ]
  },
  {
   "cell_type": "markdown",
   "metadata": {},
   "source": [
    "## Part 2"
   ]
  },
  {
   "cell_type": "code",
   "execution_count": null,
   "metadata": {},
   "outputs": [
    {
     "name": "stdout",
     "output_type": "stream",
     "text": [
      "18997088\n"
     ]
    }
   ],
   "source": [
    "def similarity_score(input_matrix):\n",
    "    results = []\n",
    "    for number in input_matrix[:,0]:\n",
    "        results.append(np.sum(input_matrix[:,1]==number) * number)\n",
    "    return np.sum(results)\n",
    "\n",
    "# make sure it passes the test\n",
    "assert similarity_score(test_data) == 31\n",
    "\n",
    "# Actual question\n",
    "print(similarity_score(data))"
   ]
  }
 ],
 "metadata": {
  "kernelspec": {
   "display_name": "analysis",
   "language": "python",
   "name": "python3"
  },
  "language_info": {
   "codemirror_mode": {
    "name": "ipython",
    "version": 3
   },
   "file_extension": ".py",
   "mimetype": "text/x-python",
   "name": "python",
   "nbconvert_exporter": "python",
   "pygments_lexer": "ipython3",
   "version": "3.11.10"
  }
 },
 "nbformat": 4,
 "nbformat_minor": 2
}
