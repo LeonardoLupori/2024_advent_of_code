{
 "cells": [
  {
   "cell_type": "markdown",
   "metadata": {},
   "source": [
    "## Parse the data"
   ]
  },
  {
   "cell_type": "code",
   "execution_count": 321,
   "metadata": {},
   "outputs": [],
   "source": [
    "# Actual data\n",
    "with open('data\\day_5.txt', 'r') as file:\n",
    "    data = file.read().rstrip().split(\"\\n\")\n",
    "data\n",
    "\n",
    "# # Setup the map of rules\n",
    "rules = [tuple(map(int, rule.split(\"|\"))) for rule in data if \"|\" in rule]\n",
    "rule_map = {}\n",
    "for a, b in rules:\n",
    "    rule_map.setdefault(a, []).append(b)\n",
    "\n",
    "# Parse the updates\n",
    "updates = [list(map(int, x.split(','))) for x in data if \"|\" not in x and x]\n"
   ]
  },
  {
   "cell_type": "markdown",
   "metadata": {},
   "source": [
    "## Part 1"
   ]
  },
  {
   "cell_type": "code",
   "execution_count": 322,
   "metadata": {},
   "outputs": [
    {
     "name": "stdout",
     "output_type": "stream",
     "text": [
      "4689\n"
     ]
    }
   ],
   "source": [
    "cumsum = 0\n",
    "is_valid = []\n",
    "\n",
    "def is_correct(update, rule_map):\n",
    "    return [not bool(set(rule_map[x]).intersection(update[0:i])) for i,x in enumerate(update) if x in rule_map.keys()]\n",
    "\n",
    "for update in updates:\n",
    "    valid = all(is_correct(update, rule_map))\n",
    "    is_valid.append(valid)\n",
    "    if valid:\n",
    "        cumsum += update[int((len(update) - 1)/2)]\n",
    "\n",
    "print(cumsum)"
   ]
  },
  {
   "cell_type": "markdown",
   "metadata": {},
   "source": [
    "## Part 2"
   ]
  },
  {
   "cell_type": "code",
   "execution_count": 323,
   "metadata": {},
   "outputs": [
    {
     "data": {
      "text/plain": [
       "6336"
      ]
     },
     "execution_count": 323,
     "metadata": {},
     "output_type": "execute_result"
    }
   ],
   "source": [
    "invalid_updates = [u for u, valid in zip(updates, is_valid) if not valid]\n",
    "\n",
    "def reshuffle(update, rule_map):\n",
    "    test = list(update)\n",
    "    while not all(is_correct(test, rule_map)):\n",
    "        first = next(i for i, valid in enumerate(is_correct(test, rule_map)) if not valid)\n",
    "        swap_with = -1 if first == 0 else first - 1\n",
    "        test[first], test[swap_with] = test[swap_with], test[first]\n",
    "    return test\n",
    "\n",
    "cumsum = sum(\n",
    "    reshuffle(update, rule_map)[(len(update) - 1) // 2] \n",
    "    for update in invalid_updates\n",
    ")\n",
    "\n",
    "cumsum"
   ]
  }
 ],
 "metadata": {
  "kernelspec": {
   "display_name": "analysis",
   "language": "python",
   "name": "python3"
  },
  "language_info": {
   "codemirror_mode": {
    "name": "ipython",
    "version": 3
   },
   "file_extension": ".py",
   "mimetype": "text/x-python",
   "name": "python",
   "nbconvert_exporter": "python",
   "pygments_lexer": "ipython3",
   "version": "3.11.10"
  }
 },
 "nbformat": 4,
 "nbformat_minor": 2
}
