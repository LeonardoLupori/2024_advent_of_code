{
 "cells": [
  {
   "cell_type": "code",
   "execution_count": null,
   "metadata": {},
   "outputs": [],
   "source": [
    "import re"
   ]
  },
  {
   "cell_type": "markdown",
   "metadata": {},
   "source": [
    "## Parse the data"
   ]
  },
  {
   "cell_type": "code",
   "execution_count": null,
   "metadata": {},
   "outputs": [],
   "source": [
    "# Test case to make sure things are working\n",
    "test_data = \"xmul(2,4)%&mul[3,7]!@^do_not_mul(5,5)+mul(32,64]then(mul(11,8)mul(8,5))\"\n",
    "\n",
    "# Actual data\n",
    "with open('data\\day_3.txt', 'r') as file:\n",
    "    data = file.read().rstrip()"
   ]
  },
  {
   "cell_type": "markdown",
   "metadata": {},
   "source": [
    "## Part 1"
   ]
  },
  {
   "cell_type": "code",
   "execution_count": null,
   "metadata": {},
   "outputs": [],
   "source": [
    "regex = re.compile(\"mul\\(\\d{1,3},\\d{1,3}\\)\")\n",
    "a = regex.findall(test_data)\n",
    "b = regex.findall(data)\n",
    "\n",
    "def mul(a,b):\n",
    "    return a*b\n",
    "\n",
    "assert sum([eval(x) for x in a]) == 161\n",
    "print(sum([eval(x) for x in b]))"
   ]
  },
  {
   "cell_type": "markdown",
   "metadata": {},
   "source": [
    "## Part 2"
   ]
  },
  {
   "cell_type": "code",
   "execution_count": null,
   "metadata": {},
   "outputs": [],
   "source": [
    "test_data = \"xmul(2,4)&mul[3,7]!^don't()_mul(5,5)+mul(32,64](mul(11,8)undo()?mul(8,5))\"\n",
    "valids = []\n",
    "\n",
    "all_dos = data.split('do()')\n",
    "for do in all_dos:\n",
    "    if \"don't()\" in do:\n",
    "        dodo = do.split(\"don't()\")\n",
    "        valids.append(dodo[0])\n",
    "    else:\n",
    "        valids.append(do)\n",
    "\n",
    "numbers = []\n",
    "for bit in valids:\n",
    "    a = regex.findall(bit)\n",
    "    numbers.append([eval(x) for x in a])\n",
    "\n",
    "sum([sum(x) for x in numbers])"
   ]
  }
 ],
 "metadata": {
  "kernelspec": {
   "display_name": "analysis",
   "language": "python",
   "name": "python3"
  },
  "language_info": {
   "codemirror_mode": {
    "name": "ipython",
    "version": 3
   },
   "file_extension": ".py",
   "mimetype": "text/x-python",
   "name": "python",
   "nbconvert_exporter": "python",
   "pygments_lexer": "ipython3",
   "version": "3.11.10"
  }
 },
 "nbformat": 4,
 "nbformat_minor": 2
}
